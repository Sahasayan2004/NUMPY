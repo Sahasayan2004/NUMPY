{
  "nbformat": 4,
  "nbformat_minor": 0,
  "metadata": {
    "colab": {
      "provenance": [],
      "gpuType": "T4"
    },
    "kernelspec": {
      "name": "python3",
      "display_name": "Python 3"
    },
    "language_info": {
      "name": "python"
    },
    "accelerator": "GPU"
  },
  "cells": [
    {
      "cell_type": "code",
      "execution_count": null,
      "metadata": {
        "id": "UAP4MHURPgqJ"
      },
      "outputs": [],
      "source": [
        "#import numpy package\n",
        "import numpy as np"
      ]
    },
    {
      "cell_type": "code",
      "source": [
        "sayan = [2,3,5,6,7,9,6]"
      ],
      "metadata": {
        "id": "38nf7g5qPkaA"
      },
      "execution_count": null,
      "outputs": []
    },
    {
      "cell_type": "code",
      "source": [
        "type(sayan)"
      ],
      "metadata": {
        "colab": {
          "base_uri": "https://localhost:8080/"
        },
        "id": "MMG7viT0QZPA",
        "outputId": "a5c402f1-aed8-44a3-d09b-850f700b670b"
      },
      "execution_count": null,
      "outputs": [
        {
          "output_type": "execute_result",
          "data": {
            "text/plain": [
              "list"
            ]
          },
          "metadata": {},
          "execution_count": 4
        }
      ]
    },
    {
      "cell_type": "code",
      "source": [
        "#converted the list into array\n",
        "arr = np.array(sayan)"
      ],
      "metadata": {
        "id": "zqRzPJmpQbd3"
      },
      "execution_count": null,
      "outputs": []
    },
    {
      "cell_type": "code",
      "source": [
        "type(arr)"
      ],
      "metadata": {
        "colab": {
          "base_uri": "https://localhost:8080/"
        },
        "id": "h4X20NPVQyUL",
        "outputId": "8df2da1f-4b1c-4ea8-9d7b-a3a4fee5fff3"
      },
      "execution_count": null,
      "outputs": [
        {
          "output_type": "execute_result",
          "data": {
            "text/plain": [
              "numpy.ndarray"
            ]
          },
          "metadata": {},
          "execution_count": 6
        }
      ]
    },
    {
      "cell_type": "code",
      "source": [
        "arr"
      ],
      "metadata": {
        "colab": {
          "base_uri": "https://localhost:8080/"
        },
        "id": "30hZLH2ORSc_",
        "outputId": "d103adb7-1382-4ddd-a715-1572f7f39cf6"
      },
      "execution_count": null,
      "outputs": [
        {
          "output_type": "execute_result",
          "data": {
            "text/plain": [
              "array([2, 3, 5, 6, 7, 9, 6])"
            ]
          },
          "metadata": {},
          "execution_count": 7
        }
      ]
    },
    {
      "cell_type": "code",
      "source": [
        "arr.shape"
      ],
      "metadata": {
        "colab": {
          "base_uri": "https://localhost:8080/"
        },
        "id": "JmlG4PahSef7",
        "outputId": "ae1743ce-da1e-471a-ab55-738291b019d2"
      },
      "execution_count": null,
      "outputs": [
        {
          "output_type": "execute_result",
          "data": {
            "text/plain": [
              "(7,)"
            ]
          },
          "metadata": {},
          "execution_count": 8
        }
      ]
    },
    {
      "cell_type": "code",
      "source": [
        "#reshape the array\n",
        "arr.reshape(1,7)"
      ],
      "metadata": {
        "colab": {
          "base_uri": "https://localhost:8080/"
        },
        "id": "sZBdfc7xUJGM",
        "outputId": "08f12a77-1f9d-4a81-c4e0-14ad6e233c1a"
      },
      "execution_count": null,
      "outputs": [
        {
          "output_type": "execute_result",
          "data": {
            "text/plain": [
              "array([[2, 3, 5, 6, 7, 9, 6]])"
            ]
          },
          "metadata": {},
          "execution_count": 9
        }
      ]
    },
    {
      "cell_type": "code",
      "source": [
        "#Create multidimensional array\n",
        "lst1 = [1,2,3,9]\n",
        "lst2 = [4,5,6,8]\n",
        "lst3 = [7,8,9,3]"
      ],
      "metadata": {
        "id": "rEl_FzOfSs-G"
      },
      "execution_count": null,
      "outputs": []
    },
    {
      "cell_type": "code",
      "source": [
        " arr2 = np.array([lst1,lst2,lst3])"
      ],
      "metadata": {
        "id": "Cbm_F0wuTEGf"
      },
      "execution_count": null,
      "outputs": []
    },
    {
      "cell_type": "code",
      "source": [
        "arr2"
      ],
      "metadata": {
        "colab": {
          "base_uri": "https://localhost:8080/"
        },
        "id": "C4HdYmUUTTvM",
        "outputId": "ba11a62f-f8c1-4c4d-81b1-df19a50267b9"
      },
      "execution_count": null,
      "outputs": [
        {
          "output_type": "execute_result",
          "data": {
            "text/plain": [
              "array([[1, 2, 3, 9],\n",
              "       [4, 5, 6, 8],\n",
              "       [7, 8, 9, 3]])"
            ]
          },
          "metadata": {},
          "execution_count": 12
        }
      ]
    },
    {
      "cell_type": "code",
      "source": [
        "arr2.shape"
      ],
      "metadata": {
        "colab": {
          "base_uri": "https://localhost:8080/"
        },
        "id": "8iGquKsJTYul",
        "outputId": "0610d5af-eb77-4d12-b5d4-03d5c4fc8936"
      },
      "execution_count": null,
      "outputs": [
        {
          "output_type": "execute_result",
          "data": {
            "text/plain": [
              "(3, 4)"
            ]
          },
          "metadata": {},
          "execution_count": 13
        }
      ]
    },
    {
      "cell_type": "code",
      "source": [
        "arr2.reshape(6,2)"
      ],
      "metadata": {
        "colab": {
          "base_uri": "https://localhost:8080/"
        },
        "id": "T40vqF4eTbNZ",
        "outputId": "35d732c2-6fb0-400f-976a-ac73c52390eb"
      },
      "execution_count": null,
      "outputs": [
        {
          "output_type": "execute_result",
          "data": {
            "text/plain": [
              "array([[1, 2],\n",
              "       [3, 9],\n",
              "       [4, 5],\n",
              "       [6, 8],\n",
              "       [7, 8],\n",
              "       [9, 3]])"
            ]
          },
          "metadata": {},
          "execution_count": 14
        }
      ]
    },
    {
      "cell_type": "code",
      "source": [
        "arr2.shape"
      ],
      "metadata": {
        "colab": {
          "base_uri": "https://localhost:8080/"
        },
        "id": "NixtvxYpUEnn",
        "outputId": "07054122-9c7c-4a42-c458-0c3bc2677ffa"
      },
      "execution_count": null,
      "outputs": [
        {
          "output_type": "execute_result",
          "data": {
            "text/plain": [
              "(3, 4)"
            ]
          },
          "metadata": {},
          "execution_count": 15
        }
      ]
    },
    {
      "cell_type": "markdown",
      "source": [
        "# Indexing in 1-Dimentional Array\n"
      ],
      "metadata": {
        "id": "2Ru7EZKmV5bx"
      }
    },
    {
      "cell_type": "code",
      "source": [
        "arrr = [2,3,5,6,7,9,6,8]"
      ],
      "metadata": {
        "id": "mDocosVzUGKV"
      },
      "execution_count": null,
      "outputs": []
    },
    {
      "cell_type": "code",
      "source": [
        "arrr"
      ],
      "metadata": {
        "colab": {
          "base_uri": "https://localhost:8080/"
        },
        "id": "9Q2i8B3VVOFa",
        "outputId": "f82263ba-dc96-4fe7-c081-2c9789beb45d"
      },
      "execution_count": null,
      "outputs": [
        {
          "output_type": "execute_result",
          "data": {
            "text/plain": [
              "[2, 3, 5, 6, 7, 9, 6, 8]"
            ]
          },
          "metadata": {},
          "execution_count": 17
        }
      ]
    },
    {
      "cell_type": "code",
      "source": [
        "type(arrr)"
      ],
      "metadata": {
        "colab": {
          "base_uri": "https://localhost:8080/"
        },
        "id": "KDgnCSKpVOBt",
        "outputId": "1d32c85e-f329-4ce8-ce32-73c309ae5086"
      },
      "execution_count": null,
      "outputs": [
        {
          "output_type": "execute_result",
          "data": {
            "text/plain": [
              "list"
            ]
          },
          "metadata": {},
          "execution_count": 18
        }
      ]
    },
    {
      "cell_type": "code",
      "source": [
        "arrr = np.array(arrr)"
      ],
      "metadata": {
        "id": "_cEtiKk4VUzX"
      },
      "execution_count": null,
      "outputs": []
    },
    {
      "cell_type": "code",
      "source": [
        "type(arrr)"
      ],
      "metadata": {
        "colab": {
          "base_uri": "https://localhost:8080/"
        },
        "id": "-q4hM0XdVbyG",
        "outputId": "0f99abf2-6f72-420e-f7f6-118e87147e13"
      },
      "execution_count": null,
      "outputs": [
        {
          "output_type": "execute_result",
          "data": {
            "text/plain": [
              "numpy.ndarray"
            ]
          },
          "metadata": {},
          "execution_count": 20
        }
      ]
    },
    {
      "cell_type": "code",
      "source": [
        "arrr[3]"
      ],
      "metadata": {
        "colab": {
          "base_uri": "https://localhost:8080/"
        },
        "id": "ohOctmp8Vub9",
        "outputId": "56bcc703-1345-42de-c7e7-fa408bf914b3"
      },
      "execution_count": null,
      "outputs": [
        {
          "output_type": "execute_result",
          "data": {
            "text/plain": [
              "6"
            ]
          },
          "metadata": {},
          "execution_count": 21
        }
      ]
    },
    {
      "cell_type": "markdown",
      "source": [
        "# Indexing in 2-Dimentional Array"
      ],
      "metadata": {
        "id": "8PJh_3Q9WPlB"
      }
    },
    {
      "cell_type": "code",
      "source": [
        "lst1 = [1,2,3,9]\n",
        "lst2 = [4,5,6,8]\n",
        "lst3 = [7,8,9,3]"
      ],
      "metadata": {
        "id": "X1RZE8QUWYfQ"
      },
      "execution_count": null,
      "outputs": []
    },
    {
      "cell_type": "code",
      "source": [
        " arr2 = np.array([lst1,lst2,lst3])"
      ],
      "metadata": {
        "id": "EkXSch5wWibN"
      },
      "execution_count": null,
      "outputs": []
    },
    {
      "cell_type": "code",
      "source": [
        "arr2"
      ],
      "metadata": {
        "colab": {
          "base_uri": "https://localhost:8080/"
        },
        "id": "G2u615pPWkQr",
        "outputId": "4721f931-55d1-4727-d1c7-76fcf12a3279"
      },
      "execution_count": null,
      "outputs": [
        {
          "output_type": "execute_result",
          "data": {
            "text/plain": [
              "array([[1, 2, 3, 9],\n",
              "       [4, 5, 6, 8],\n",
              "       [7, 8, 9, 3]])"
            ]
          },
          "metadata": {},
          "execution_count": 24
        }
      ]
    },
    {
      "cell_type": "code",
      "source": [
        "arr2[:,:] #left side is row index\n",
        "          #rifght side is column index\n",
        "          #if we do not specify any value this show entire array"
      ],
      "metadata": {
        "colab": {
          "base_uri": "https://localhost:8080/"
        },
        "id": "T52ZLGkeWlA_",
        "outputId": "9ce6f765-c5fb-4cdf-c851-b243aeff72f7"
      },
      "execution_count": null,
      "outputs": [
        {
          "output_type": "execute_result",
          "data": {
            "text/plain": [
              "array([[1, 2, 3, 9],\n",
              "       [4, 5, 6, 8],\n",
              "       [7, 8, 9, 3]])"
            ]
          },
          "metadata": {},
          "execution_count": 25
        }
      ]
    },
    {
      "cell_type": "code",
      "source": [
        " arr2[0:3,0:2]"
      ],
      "metadata": {
        "colab": {
          "base_uri": "https://localhost:8080/"
        },
        "id": "JRcCeVz4XG3R",
        "outputId": "9de52d5f-a0a6-4147-e108-f252bc5575f1"
      },
      "execution_count": null,
      "outputs": [
        {
          "output_type": "execute_result",
          "data": {
            "text/plain": [
              "array([[1, 2],\n",
              "       [4, 5],\n",
              "       [7, 8]])"
            ]
          },
          "metadata": {},
          "execution_count": 26
        }
      ]
    },
    {
      "cell_type": "code",
      "source": [
        "arr2[0:2,2:]"
      ],
      "metadata": {
        "colab": {
          "base_uri": "https://localhost:8080/"
        },
        "id": "xIXxYk31poRl",
        "outputId": "3838449e-9702-46cc-d172-18ed49fed531"
      },
      "execution_count": null,
      "outputs": [
        {
          "output_type": "execute_result",
          "data": {
            "text/plain": [
              "array([[3, 9],\n",
              "       [6, 8]])"
            ]
          },
          "metadata": {},
          "execution_count": 30
        }
      ]
    },
    {
      "cell_type": "code",
      "source": [
        "arr2[1:,2:]"
      ],
      "metadata": {
        "colab": {
          "base_uri": "https://localhost:8080/"
        },
        "id": "kuHGNuKZqx-8",
        "outputId": "d4911d5f-0da8-4206-d654-bc7b8fb913f4"
      },
      "execution_count": null,
      "outputs": [
        {
          "output_type": "execute_result",
          "data": {
            "text/plain": [
              "array([[6, 8],\n",
              "       [9, 3]])"
            ]
          },
          "metadata": {},
          "execution_count": 29
        }
      ]
    },
    {
      "cell_type": "code",
      "source": [
        "arr2[1:,1:3]"
      ],
      "metadata": {
        "colab": {
          "base_uri": "https://localhost:8080/"
        },
        "id": "axa2CIGVsSI_",
        "outputId": "a4651a5b-c1dd-4885-852a-266701a6a9d6"
      },
      "execution_count": null,
      "outputs": [
        {
          "output_type": "execute_result",
          "data": {
            "text/plain": [
              "array([[5, 6],\n",
              "       [8, 9]])"
            ]
          },
          "metadata": {},
          "execution_count": 35
        }
      ]
    },
    {
      "cell_type": "code",
      "source": [
        "arr2[1:2,0:]"
      ],
      "metadata": {
        "colab": {
          "base_uri": "https://localhost:8080/"
        },
        "id": "mb4NXl47sVgE",
        "outputId": "bbe680e9-21b2-4a15-da19-17fb1d2002af"
      },
      "execution_count": null,
      "outputs": [
        {
          "output_type": "execute_result",
          "data": {
            "text/plain": [
              "array([[4, 5, 6, 8]])"
            ]
          },
          "metadata": {},
          "execution_count": 38
        }
      ]
    },
    {
      "cell_type": "markdown",
      "source": [
        "## IN BUILT FUNCTION\n"
      ],
      "metadata": {
        "id": "_Yq9y8pcszc0"
      }
    },
    {
      "cell_type": "code",
      "source": [
        "arr3 = np.arange(0,20) # 20 not print"
      ],
      "metadata": {
        "id": "fw_KFwLws2KA"
      },
      "execution_count": null,
      "outputs": []
    },
    {
      "cell_type": "code",
      "source": [
        "arr3"
      ],
      "metadata": {
        "colab": {
          "base_uri": "https://localhost:8080/"
        },
        "id": "HzbYNekvtYmI",
        "outputId": "d193acb6-1122-48ba-beec-d7c004e0a897"
      },
      "execution_count": null,
      "outputs": [
        {
          "output_type": "execute_result",
          "data": {
            "text/plain": [
              "array([ 0,  1,  2,  3,  4,  5,  6,  7,  8,  9, 10, 11, 12, 13, 14, 15, 16,\n",
              "       17, 18, 19])"
            ]
          },
          "metadata": {},
          "execution_count": 41
        }
      ]
    },
    {
      "cell_type": "code",
      "source": [
        "arr4 = np.arange(0,20,step=2) # It take gaps 2 between two number"
      ],
      "metadata": {
        "id": "YR79xs5otlNy"
      },
      "execution_count": null,
      "outputs": []
    },
    {
      "cell_type": "code",
      "source": [
        "arr4"
      ],
      "metadata": {
        "colab": {
          "base_uri": "https://localhost:8080/"
        },
        "id": "82Q0pVAnt3NN",
        "outputId": "2c776461-550c-4979-ddff-2d92a48dca74"
      },
      "execution_count": null,
      "outputs": [
        {
          "output_type": "execute_result",
          "data": {
            "text/plain": [
              "array([ 0,  2,  4,  6,  8, 10, 12, 14, 16, 18])"
            ]
          },
          "metadata": {},
          "execution_count": 44
        }
      ]
    },
    {
      "cell_type": "code",
      "source": [
        "arr5 = np.linspace(1,10,100) #it print 100 number between 1 and 100"
      ],
      "metadata": {
        "id": "lRcf0MuBt4Jm"
      },
      "execution_count": 48,
      "outputs": []
    },
    {
      "cell_type": "code",
      "source": [
        "arr5"
      ],
      "metadata": {
        "colab": {
          "base_uri": "https://localhost:8080/",
          "height": 0
        },
        "id": "bd1aHk78v7_m",
        "outputId": "654d04ac-f155-40f0-b587-742f8ae18846"
      },
      "execution_count": 49,
      "outputs": [
        {
          "output_type": "execute_result",
          "data": {
            "text/plain": [
              "array([ 1.        ,  1.09090909,  1.18181818,  1.27272727,  1.36363636,\n",
              "        1.45454545,  1.54545455,  1.63636364,  1.72727273,  1.81818182,\n",
              "        1.90909091,  2.        ,  2.09090909,  2.18181818,  2.27272727,\n",
              "        2.36363636,  2.45454545,  2.54545455,  2.63636364,  2.72727273,\n",
              "        2.81818182,  2.90909091,  3.        ,  3.09090909,  3.18181818,\n",
              "        3.27272727,  3.36363636,  3.45454545,  3.54545455,  3.63636364,\n",
              "        3.72727273,  3.81818182,  3.90909091,  4.        ,  4.09090909,\n",
              "        4.18181818,  4.27272727,  4.36363636,  4.45454545,  4.54545455,\n",
              "        4.63636364,  4.72727273,  4.81818182,  4.90909091,  5.        ,\n",
              "        5.09090909,  5.18181818,  5.27272727,  5.36363636,  5.45454545,\n",
              "        5.54545455,  5.63636364,  5.72727273,  5.81818182,  5.90909091,\n",
              "        6.        ,  6.09090909,  6.18181818,  6.27272727,  6.36363636,\n",
              "        6.45454545,  6.54545455,  6.63636364,  6.72727273,  6.81818182,\n",
              "        6.90909091,  7.        ,  7.09090909,  7.18181818,  7.27272727,\n",
              "        7.36363636,  7.45454545,  7.54545455,  7.63636364,  7.72727273,\n",
              "        7.81818182,  7.90909091,  8.        ,  8.09090909,  8.18181818,\n",
              "        8.27272727,  8.36363636,  8.45454545,  8.54545455,  8.63636364,\n",
              "        8.72727273,  8.81818182,  8.90909091,  9.        ,  9.09090909,\n",
              "        9.18181818,  9.27272727,  9.36363636,  9.45454545,  9.54545455,\n",
              "        9.63636364,  9.72727273,  9.81818182,  9.90909091, 10.        ])"
            ]
          },
          "metadata": {},
          "execution_count": 49
        }
      ]
    },
    {
      "cell_type": "code",
      "source": [
        "#copy function and broadcasting\n",
        "arrrr = [1,2,3,4,5,6,7,8,9,10]\n",
        "arrrr"
      ],
      "metadata": {
        "colab": {
          "base_uri": "https://localhost:8080/",
          "height": 0
        },
        "id": "xzZkrFUnv-ac",
        "outputId": "6bc1d1c4-b465-49c8-d1fc-29c9fc5381b5"
      },
      "execution_count": 57,
      "outputs": [
        {
          "output_type": "execute_result",
          "data": {
            "text/plain": [
              "[1, 2, 3, 4, 5, 6, 7, 8, 9, 10]"
            ]
          },
          "metadata": {},
          "execution_count": 57
        }
      ]
    },
    {
      "cell_type": "code",
      "source": [
        "type(arrrr)"
      ],
      "metadata": {
        "colab": {
          "base_uri": "https://localhost:8080/",
          "height": 0
        },
        "id": "0s0lufaX3GON",
        "outputId": "b2c08e23-c6eb-4fe9-a597-64230b8600e6"
      },
      "execution_count": 75,
      "outputs": [
        {
          "output_type": "execute_result",
          "data": {
            "text/plain": [
              "list"
            ]
          },
          "metadata": {},
          "execution_count": 75
        }
      ]
    },
    {
      "cell_type": "code",
      "source": [
        "arrrr = np.array(arrrr)"
      ],
      "metadata": {
        "id": "nsOq6Bfx3KtL"
      },
      "execution_count": 76,
      "outputs": []
    },
    {
      "cell_type": "code",
      "source": [
        "type(arrrr)"
      ],
      "metadata": {
        "colab": {
          "base_uri": "https://localhost:8080/",
          "height": 0
        },
        "outputId": "fc1bdbb1-7005-46b0-a40b-1ac320ff8184",
        "id": "s7P9rGWA3Td5"
      },
      "execution_count": 77,
      "outputs": [
        {
          "output_type": "execute_result",
          "data": {
            "text/plain": [
              "numpy.ndarray"
            ]
          },
          "metadata": {},
          "execution_count": 77
        }
      ]
    },
    {
      "cell_type": "code",
      "source": [
        "arr7=arrrr # arrrr will copy to arr7"
      ],
      "metadata": {
        "id": "0pxDSk2-w4ta"
      },
      "execution_count": 78,
      "outputs": []
    },
    {
      "cell_type": "code",
      "source": [
        "arr7"
      ],
      "metadata": {
        "colab": {
          "base_uri": "https://localhost:8080/",
          "height": 0
        },
        "id": "NZqw_2e-xh9t",
        "outputId": "bea25b2b-a6a2-4cda-81e2-c0c87c47fe47"
      },
      "execution_count": 79,
      "outputs": [
        {
          "output_type": "execute_result",
          "data": {
            "text/plain": [
              "array([ 1,  2,  3, 50, 50, 50, 50, 50, 50, 50])"
            ]
          },
          "metadata": {},
          "execution_count": 79
        }
      ]
    },
    {
      "cell_type": "code",
      "source": [
        "arrrr[3:] = 50"
      ],
      "metadata": {
        "id": "gqOtSvpsxsKk"
      },
      "execution_count": 80,
      "outputs": []
    },
    {
      "cell_type": "code",
      "source": [
        "arrrr"
      ],
      "metadata": {
        "colab": {
          "base_uri": "https://localhost:8080/",
          "height": 0
        },
        "id": "09vNdvISzE_z",
        "outputId": "1250a45d-c6e8-4264-84ea-63312dc3f08d"
      },
      "execution_count": 81,
      "outputs": [
        {
          "output_type": "execute_result",
          "data": {
            "text/plain": [
              "array([ 1,  2,  3, 50, 50, 50, 50, 50, 50, 50])"
            ]
          },
          "metadata": {},
          "execution_count": 81
        }
      ]
    },
    {
      "cell_type": "code",
      "source": [
        "arrrr"
      ],
      "metadata": {
        "colab": {
          "base_uri": "https://localhost:8080/",
          "height": 0
        },
        "id": "rYxjb7V-0CuY",
        "outputId": "def0dd91-8cd1-46f1-a580-c1dee20f6e5f"
      },
      "execution_count": 82,
      "outputs": [
        {
          "output_type": "execute_result",
          "data": {
            "text/plain": [
              "array([ 1,  2,  3, 50, 50, 50, 50, 50, 50, 50])"
            ]
          },
          "metadata": {},
          "execution_count": 82
        }
      ]
    },
    {
      "cell_type": "code",
      "source": [
        "arr7\n",
        "\n"
      ],
      "metadata": {
        "colab": {
          "base_uri": "https://localhost:8080/",
          "height": 0
        },
        "id": "e14jmf5F0D4v",
        "outputId": "0c1f0c6d-d73f-4b31-a34e-2244f6abcc0d"
      },
      "execution_count": 83,
      "outputs": [
        {
          "output_type": "execute_result",
          "data": {
            "text/plain": [
              "array([ 1,  2,  3, 50, 50, 50, 50, 50, 50, 50])"
            ]
          },
          "metadata": {},
          "execution_count": 83
        }
      ]
    },
    {
      "cell_type": "code",
      "source": [
        "val=2\n"
      ],
      "metadata": {
        "id": "WIN-VGtf0jxz"
      },
      "execution_count": 84,
      "outputs": []
    },
    {
      "cell_type": "code",
      "source": [
        "arr7*val #all the elements in arr7 multiply by 2"
      ],
      "metadata": {
        "colab": {
          "base_uri": "https://localhost:8080/",
          "height": 0
        },
        "id": "NJXQrhbi2n4W",
        "outputId": "1384e6b2-7035-4ba7-ce87-e039f91728d4"
      },
      "execution_count": 89,
      "outputs": [
        {
          "output_type": "execute_result",
          "data": {
            "text/plain": [
              "array([  2,   4,   6, 100, 100, 100, 100, 100, 100, 100])"
            ]
          },
          "metadata": {},
          "execution_count": 89
        }
      ]
    },
    {
      "cell_type": "code",
      "source": [
        "arr7<val #all the elements in arr7 which is less then 2 return true else return false"
      ],
      "metadata": {
        "colab": {
          "base_uri": "https://localhost:8080/",
          "height": 0
        },
        "id": "wIhJ1xeO20T0",
        "outputId": "237bbe85-43e1-4551-a39f-4995585b4dc6"
      },
      "execution_count": 90,
      "outputs": [
        {
          "output_type": "execute_result",
          "data": {
            "text/plain": [
              "array([ True, False, False, False, False, False, False, False, False,\n",
              "       False])"
            ]
          },
          "metadata": {},
          "execution_count": 90
        }
      ]
    },
    {
      "cell_type": "code",
      "source": [
        "#create array and reshape\n",
        "ar = np.arange(0,10).reshape(2,5)"
      ],
      "metadata": {
        "id": "g3G2GLbl3sBE"
      },
      "execution_count": 91,
      "outputs": []
    },
    {
      "cell_type": "code",
      "source": [
        "ar2 = np.arange(0,10).reshape(2,5)"
      ],
      "metadata": {
        "id": "GeXfaorZ5oHv"
      },
      "execution_count": 93,
      "outputs": []
    },
    {
      "cell_type": "code",
      "source": [
        "ar"
      ],
      "metadata": {
        "colab": {
          "base_uri": "https://localhost:8080/",
          "height": 0
        },
        "id": "ucIx6suY5b2v",
        "outputId": "4b467ead-2f18-43c8-d76f-9cf3c6a01403"
      },
      "execution_count": 92,
      "outputs": [
        {
          "output_type": "execute_result",
          "data": {
            "text/plain": [
              "array([[0, 1, 2, 3, 4],\n",
              "       [5, 6, 7, 8, 9]])"
            ]
          },
          "metadata": {},
          "execution_count": 92
        }
      ]
    },
    {
      "cell_type": "code",
      "source": [
        "ar2"
      ],
      "metadata": {
        "colab": {
          "base_uri": "https://localhost:8080/",
          "height": 0
        },
        "id": "dCTxPX_k5l3P",
        "outputId": "12448eb7-c665-41d7-e418-5c7891c2b8b4"
      },
      "execution_count": 94,
      "outputs": [
        {
          "output_type": "execute_result",
          "data": {
            "text/plain": [
              "array([[0, 1, 2, 3, 4],\n",
              "       [5, 6, 7, 8, 9]])"
            ]
          },
          "metadata": {},
          "execution_count": 94
        }
      ]
    },
    {
      "cell_type": "code",
      "source": [
        "ar*ar2"
      ],
      "metadata": {
        "colab": {
          "base_uri": "https://localhost:8080/",
          "height": 0
        },
        "id": "2cd-FlpO51pU",
        "outputId": "9ece98de-0152-45bc-a63e-99a296c13f63"
      },
      "execution_count": 95,
      "outputs": [
        {
          "output_type": "execute_result",
          "data": {
            "text/plain": [
              "array([[ 0,  1,  4,  9, 16],\n",
              "       [25, 36, 49, 64, 81]])"
            ]
          },
          "metadata": {},
          "execution_count": 95
        }
      ]
    },
    {
      "cell_type": "code",
      "source": [
        "one = np.ones(6)"
      ],
      "metadata": {
        "id": "GPorDZ5q57S9"
      },
      "execution_count": 96,
      "outputs": []
    },
    {
      "cell_type": "code",
      "source": [
        "one"
      ],
      "metadata": {
        "colab": {
          "base_uri": "https://localhost:8080/",
          "height": 0
        },
        "id": "Co6tI4Pl6H7M",
        "outputId": "6f481b4e-da9f-4715-d735-9c8663a7e3dc"
      },
      "execution_count": 97,
      "outputs": [
        {
          "output_type": "execute_result",
          "data": {
            "text/plain": [
              "array([1., 1., 1., 1., 1., 1.])"
            ]
          },
          "metadata": {},
          "execution_count": 97
        }
      ]
    },
    {
      "cell_type": "code",
      "source": [
        "one_1 = np.ones((2,5),dtype=int)"
      ],
      "metadata": {
        "id": "kqwKZJ8Q6I9x"
      },
      "execution_count": 98,
      "outputs": []
    },
    {
      "cell_type": "code",
      "source": [
        "one_1"
      ],
      "metadata": {
        "colab": {
          "base_uri": "https://localhost:8080/",
          "height": 0
        },
        "id": "M-zE9cnT6bIr",
        "outputId": "bf848c54-5e0c-4644-c0ec-5bed62d3783b"
      },
      "execution_count": 99,
      "outputs": [
        {
          "output_type": "execute_result",
          "data": {
            "text/plain": [
              "array([[1, 1, 1, 1, 1],\n",
              "       [1, 1, 1, 1, 1]])"
            ]
          },
          "metadata": {},
          "execution_count": 99
        }
      ]
    },
    {
      "cell_type": "code",
      "source": [
        "#select random value of a given shape\n",
        "ran = np.random.rand(3,3)\n",
        "ran"
      ],
      "metadata": {
        "colab": {
          "base_uri": "https://localhost:8080/",
          "height": 0
        },
        "id": "Fs_7Gryo6emt",
        "outputId": "34d7ffd8-a8dc-44d9-bb54-a10b75248717"
      },
      "execution_count": 100,
      "outputs": [
        {
          "output_type": "execute_result",
          "data": {
            "text/plain": [
              "array([[0.98143114, 0.74120911, 0.26968709],\n",
              "       [0.57397883, 0.08537979, 0.63062547],\n",
              "       [0.38074246, 0.6631301 , 0.20788108]])"
            ]
          },
          "metadata": {},
          "execution_count": 100
        }
      ]
    },
    {
      "cell_type": "code",
      "source": [
        "#random standard distribution\n",
        "ran1 = np.random.randn(4,4)\n",
        "ran1"
      ],
      "metadata": {
        "colab": {
          "base_uri": "https://localhost:8080/",
          "height": 0
        },
        "id": "jfeqEfha7NqU",
        "outputId": "76cc7207-e8f4-4767-8768-66aa6d412cc6"
      },
      "execution_count": 101,
      "outputs": [
        {
          "output_type": "execute_result",
          "data": {
            "text/plain": [
              "array([[-0.12053131,  0.15646078, -1.30802853,  1.27837213],\n",
              "       [-0.7593452 ,  0.24689049,  0.26410463,  0.08335342],\n",
              "       [-0.21323286, -2.18102882, -1.03865189,  0.39098902],\n",
              "       [ 1.00243049, -0.24686629, -0.61408231,  0.82394226]])"
            ]
          },
          "metadata": {},
          "execution_count": 101
        }
      ]
    },
    {
      "cell_type": "code",
      "source": [
        "#between 0 to 100 it take 8 elements randomly\n",
        "np.random.randint(0,100,8)"
      ],
      "metadata": {
        "colab": {
          "base_uri": "https://localhost:8080/",
          "height": 0
        },
        "id": "EQbVajT28I4R",
        "outputId": "894d6218-6075-423b-c3e4-25378b6f2e1f"
      },
      "execution_count": 102,
      "outputs": [
        {
          "output_type": "execute_result",
          "data": {
            "text/plain": [
              "array([37,  4, 55, 62, 89, 57, 81, 83])"
            ]
          },
          "metadata": {},
          "execution_count": 102
        }
      ]
    },
    {
      "cell_type": "code",
      "source": [
        "#Return random floats in half-open interval [0.0,1.0]\n",
        "#here(1,6)is shape\n",
        "np.random.random_sample((1,6))"
      ],
      "metadata": {
        "colab": {
          "base_uri": "https://localhost:8080/",
          "height": 0
        },
        "id": "TGvdzkoH84O7",
        "outputId": "db02c06a-91f0-40e5-b4df-4eaa1453054e"
      },
      "execution_count": 104,
      "outputs": [
        {
          "output_type": "execute_result",
          "data": {
            "text/plain": [
              "array([[0.61286026, 0.8462877 , 0.46012941, 0.58772981, 0.68994551,\n",
              "        0.17164959]])"
            ]
          },
          "metadata": {},
          "execution_count": 104
        }
      ]
    }
  ]
}